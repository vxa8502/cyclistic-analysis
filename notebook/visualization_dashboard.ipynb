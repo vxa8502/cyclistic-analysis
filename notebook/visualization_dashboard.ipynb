{
 "cells": [
  {
   "cell_type": "markdown",
   "metadata": {},
   "source": [
    "# Cyclistic Bike-Share Analysis: Visualizing Rider Trends"
   ]
  },
  {
   "cell_type": "markdown",
   "metadata": {},
   "source": [
    "## Visualization Objectives"
   ]
  },
  {
   "cell_type": "markdown",
   "metadata": {},
   "source": [
    "Key analyses include:\n",
    "\n",
    "- Rider segmentation\n",
    "- Temporal usage patterns (daily, weekly, monthly)\n",
    "- Ride duration analysis\n",
    "- Bike type choices\n",
    "- Station popularity and geographic patterns"
   ]
  },
  {
   "cell_type": "markdown",
   "metadata": {},
   "source": [
    "## Setup and Configuration"
   ]
  },
  {
   "cell_type": "markdown",
   "metadata": {},
   "source": [
    "### Environment Setup"
   ]
  },
  {
   "cell_type": "code",
   "execution_count": null,
   "metadata": {},
   "outputs": [],
   "source": [
    "# Import required libraries\n",
    "import os\n",
    "from IPython.display import Image, display, HTML\n",
    "import pandas as pd\n",
    "import plotly.express as px\n",
    "import matplotlib.pyplot as plt\n",
    "import seaborn as sns\n",
    "import sys\n",
    "\n",
    "# Add the scripts directory to sys.path\n",
    "sys.path.append(os.path.join(os.path.dirname(os.getcwd()), \"scripts\"))\n",
    "\n",
    "# Import config\n",
    "from config import ANALYSIS_OUTPUTS_DIR, PROCESSED_DATA_DIR\n",
    "FIGURES_DIR = os.path.join(os.path.dirname(os.getcwd()), \"results\", \"figures\")\n",
    "os.makedirs(FIGURES_DIR, exist_ok=True)\n",
    "\n",
    "\n",
    "def set_visualization_style():\n",
    "    \"\"\"\n",
    "    Set consistent style parameters for all visualizations\n",
    "    \"\"\"\n",
    "    # Set the style to seaborn for better default aesthetics\n",
    "    plt.style.use(\"seaborn-v0_8\")\n",
    "\n",
    "    # Set consistent font sizes\n",
    "    SMALL_SIZE = 12  # For tick labels\n",
    "    MEDIUM_SIZE = 14  # For axis labels and legends\n",
    "    LARGE_SIZE = 16  # For titles\n",
    "\n",
    "    # Update all font sizes\n",
    "    plt.rc(\"font\", size=SMALL_SIZE)  # Default text sizes\n",
    "    plt.rc(\"axes\", titlesize=MEDIUM_SIZE, titleweight=\"bold\")  # Axes title\n",
    "    plt.rc(\"axes\", labelsize=MEDIUM_SIZE, titleweight=\"bold\")  # X and Y labels\n",
    "    plt.rc(\"xtick\", labelsize=SMALL_SIZE)  # X tick labels\n",
    "    plt.rc(\"ytick\", labelsize=SMALL_SIZE)  # Y tick labels\n",
    "    plt.rc(\"legend\", fontsize=MEDIUM_SIZE)  # Legend text\n",
    "    plt.rc(\"figure\", titlesize=LARGE_SIZE, titleweight=\"bold\")  # Figure title\n",
    "\n",
    "    # Set color palette\n",
    "    sns.set_palette(\"Paired\")\n",
    "\n",
    "    # Set other styling parameters\n",
    "    plt.rc(\"axes\", grid=True)\n",
    "    plt.rc(\"grid\", linestyle=\"--\", alpha=0.7)\n",
    "\n",
    "    # Set figure DPI for better quality\n",
    "    plt.rc(\"figure\", dpi=500)\n",
    "\n",
    "    # Set default figure size\n",
    "    plt.rc(\"figure\", figsize=(12, 8))\n",
    "\n",
    "    # Set figure facecolor to white\n",
    "    plt.rc(\"figure\", facecolor=\"white\")\n",
    "    plt.rc(\"axes\", facecolor=\"white\")\n",
    "\n",
    "\n",
    "# Custom formatting functions for consistent plot styling\n",
    "def format_plot(ax, title, xlabel, ylabel, legend_title=None):\n",
    "    \"\"\"\n",
    "    Apply consistent formatting to a plot\n",
    "    \"\"\"\n",
    "    ax.set_title(title, pad=20, fontweight=\"bold\")\n",
    "    ax.set_xlabel(xlabel)\n",
    "    ax.set_ylabel(ylabel)\n",
    "\n",
    "    if legend_title:\n",
    "        ax.legend(title=legend_title, bbox_to_anchor=(1.05, 1), loc=\"upper left\")\n",
    "\n",
    "    ax.grid(True, linestyle=\"--\", alpha=0.7)\n",
    "\n",
    "\n",
    "def format_pie_chart(ax, title):\n",
    "    \"\"\"\n",
    "    Apply consistent formatting to a pie chart\n",
    "    \"\"\"\n",
    "    ax.set_title(title, pad=20, fontweight=\"bold\", y=-0.1)\n",
    "\n",
    "\n",
    "def format_heatmap(ax, title, xlabel, ylabel):\n",
    "    \"\"\"\n",
    "    Apply consistent formatting to a heatmap\n",
    "    \"\"\"\n",
    "    ax.set_title(title, pad=20, fontweight=\"bold\")\n",
    "    ax.set_xlabel(xlabel)\n",
    "    ax.set_ylabel(ylabel)\n",
    "\n",
    "\n",
    "# Set the visualization style at the start of your script\n",
    "\n",
    "def save_all_figures(figures_dict):\n",
    "    \"\"\"\n",
    "    Save all figures stored in the figures_dict to the FIGURES_DIR.\n",
    "    \"\"\"\n",
    "    for figure_name, fig in figures_dict.items():\n",
    "        file_path = os.path.join(FIGURES_DIR, f\"{figure_name}.png\")\n",
    "        fig.savefig(file_path, bbox_inches=\"tight\", dpi=500)\n",
    "        print(f\"Saved {figure_name} to {file_path}\")\n"
   ]
  },
  {
   "cell_type": "code",
   "execution_count": null,
   "metadata": {},
   "outputs": [],
   "source": [
    "set_visualization_style()\n",
    "figures_dict = {}"
   ]
  },
  {
   "cell_type": "markdown",
   "metadata": {},
   "source": [
    "### Load Pre-analyzed Results\n",
    "\n",
    "Analysis is based on Cyclistic trip data from November 2023 through October 2024. "
   ]
  },
  {
   "cell_type": "code",
   "execution_count": null,
   "metadata": {},
   "outputs": [],
   "source": [
    "# Load all pre-processed analysis files\n",
    "cleaned_bike_data = pd.read_csv(\n",
    "    os.path.join(PROCESSED_DATA_DIR, \"cleaned_bike_data.csv\"), index_col=0\n",
    ").squeeze()\n",
    "trips_by_rider_group = pd.read_csv(\n",
    "    os.path.join(ANALYSIS_OUTPUTS_DIR, \"trips_by_rider_group.csv\"), index_col=0\n",
    ").squeeze()\n",
    "rider_group_distribution = pd.read_csv(\n",
    "    os.path.join(ANALYSIS_OUTPUTS_DIR, \"rider_group_distribution.csv\"), index_col=0\n",
    ").squeeze()\n",
    "monthly_usage_pct = pd.read_csv(\n",
    "    os.path.join(ANALYSIS_OUTPUTS_DIR, \"monthly_usage_pct.csv\"), index_col=0\n",
    ").squeeze()\n",
    "daily_usage_pct = pd.read_csv(\n",
    "    os.path.join(ANALYSIS_OUTPUTS_DIR, \"daily_usage_pct.csv\"), index_col=0\n",
    ").squeeze()\n",
    "hourly_usage_pct = pd.read_csv(\n",
    "    os.path.join(ANALYSIS_OUTPUTS_DIR, \"hourly_usage_pct.csv\"), index_col=0\n",
    ").squeeze()\n",
    "trip_duration_dist_pct = pd.read_csv(\n",
    "    os.path.join(ANALYSIS_OUTPUTS_DIR, \"trip_duration_dist_pct.csv\"), index_col=0\n",
    ").squeeze()\n",
    "bike_preference_counts = pd.read_csv(\n",
    "    os.path.join(ANALYSIS_OUTPUTS_DIR, \"bike_preference_counts.csv\"), index_col=0\n",
    ")\n",
    "bike_preference_pct = pd.read_csv(\n",
    "    os.path.join(ANALYSIS_OUTPUTS_DIR, \"bike_preference_pct.csv\"), index_col=0\n",
    ")\n",
    "popular_start_stations = pd.read_csv(\n",
    "    os.path.join(ANALYSIS_OUTPUTS_DIR, \"popular_start_stations.csv\"), index_col=0\n",
    ").squeeze()\n",
    "popular_end_stations = pd.read_csv(\n",
    "    os.path.join(ANALYSIS_OUTPUTS_DIR, \"popular_end_stations.csv\"), index_col=0\n",
    ").squeeze()"
   ]
  },
  {
   "cell_type": "markdown",
   "metadata": {},
   "source": [
    "## Visuals"
   ]
  },
  {
   "cell_type": "markdown",
   "metadata": {},
   "source": [
    "### Ride Counts by Group"
   ]
  },
  {
   "cell_type": "markdown",
   "metadata": {},
   "source": [
    "Identifies the proportion of casual riders vs. members to assess potential conversion opportunities.\n"
   ]
  },
  {
   "cell_type": "code",
   "execution_count": null,
   "metadata": {},
   "outputs": [],
   "source": [
    "# Plotting a bar chart\n",
    "set_visualization_style()\n",
    "fig1, ax = plt.subplots()\n",
    "\n",
    "trips_by_rider_group.plot(kind=\"bar\", ax=ax)\n",
    "format_plot(\n",
    "    ax,\n",
    "    title=\"NUMBER OF TRIPS BY RIDER GROUP (NOV 2023 - DEC 2024)\",\n",
    "    xlabel=\"RIDER GROUP\",\n",
    "    ylabel=\"NUMBER OF TRIPS\",\n",
    ")\n",
    "ax.tick_params(rotation=0)\n",
    "\n",
    "for i, count in enumerate(trips_by_rider_group):\n",
    "    ax.text(i, count + 5000, f\"{count:,}\", ha=\"center\", va=\"bottom\", fontsize=12)\n",
    "\n",
    "plt.tight_layout()\n",
    "figures_dict[\"rider_group_bar_chart\"] = fig1 \n",
    "plt.show()\n"
   ]
  },
  {
   "cell_type": "markdown",
   "metadata": {},
   "source": [
    "### Distribution of Rides"
   ]
  },
  {
   "cell_type": "code",
   "execution_count": null,
   "metadata": {},
   "outputs": [],
   "source": [
    "# Plotting a pie chart\n",
    "set_visualization_style()\n",
    "fig2, ax = plt.subplots()\n",
    "explode = (0.1, 0)\n",
    "\n",
    "ax.pie(\n",
    "    rider_group_distribution,\n",
    "    labels=[\n",
    "        f\"{label} ({value:.0f}%)\"\n",
    "        for label, value in zip(\n",
    "            rider_group_distribution.index,\n",
    "            rider_group_distribution / rider_group_distribution.sum() * 100,\n",
    "        )\n",
    "    ],\n",
    "    explode=explode,\n",
    ")\n",
    "format_pie_chart(ax, \"DISTRIBUTION OF ANNUAL RIDER ACTIVITY\")\n",
    "\n",
    "plt.tight_layout()\n",
    "plt.show()\n",
    "figures_dict[\"rider_group_pie\"] = fig2\n"
   ]
  },
  {
   "cell_type": "markdown",
   "metadata": {},
   "source": [
    "## Usage Patterns"
   ]
  },
  {
   "cell_type": "markdown",
   "metadata": {},
   "source": [
    "Examines when users ride (daily, monthly, time of day) to optimize marketing efforts based on peak usage times.  \n"
   ]
  },
  {
   "cell_type": "markdown",
   "metadata": {},
   "source": [
    "#### Monthly Trends"
   ]
  },
  {
   "cell_type": "code",
   "execution_count": null,
   "metadata": {},
   "outputs": [],
   "source": [
    "set_visualization_style()\n",
    "fig3, ax = plt.subplots()\n",
    "\n",
    "plt.plot(\n",
    "    monthly_usage_pct.index,\n",
    "    monthly_usage_pct[\"casual\"],\n",
    "    marker=\"o\",\n",
    "    label=\"Casual Riders\",\n",
    ")\n",
    "plt.plot(\n",
    "    monthly_usage_pct.index,\n",
    "    monthly_usage_pct[\"member\"],\n",
    "    marker=\"o\",\n",
    "    label=\"Annual Members\",\n",
    ")\n",
    "\n",
    "format_plot(\n",
    "    ax,\n",
    "    title=\"MONTHLY USAGE TREND BY RIDER GROUP\",\n",
    "    xlabel=\"MONTH\",\n",
    "    ylabel=\"TRIP DISTRIBUTION (%)\",\n",
    "    legend_title=\"RIDER GROUP\",\n",
    ")\n",
    "\n",
    "plt.xticks(rotation=45)\n",
    "plt.tight_layout()\n",
    "figures_dict[\"monthly_usage_line_plot\"] = fig3\n",
    "plt.show()"
   ]
  },
  {
   "cell_type": "markdown",
   "metadata": {},
   "source": [
    "#### Weekly Trends"
   ]
  },
  {
   "cell_type": "code",
   "execution_count": null,
   "metadata": {},
   "outputs": [],
   "source": [
    "set_visualization_style()\n",
    "fig4, ax = plt.subplots()\n",
    "bar_width = 0.35\n",
    "x = range(len(daily_usage_pct.index))\n",
    "\n",
    "plt.bar(x, daily_usage_pct[\"casual\"], width=bar_width, label=\"Casual Riders\")\n",
    "plt.bar(\n",
    "    [i + bar_width for i in x],\n",
    "    daily_usage_pct[\"member\"],\n",
    "    width=bar_width,\n",
    "    label=\"Annual Members\",\n",
    ")\n",
    "\n",
    "format_plot(\n",
    "    ax,\n",
    "    title=\"WEEKLY USAGE TREND BY RIDER GROUP\",\n",
    "    xlabel=\"DAY\",\n",
    "    ylabel=\"TRIP DISTRIBUTION (%)\",\n",
    "    legend_title=\"RIDER GROUP\",\n",
    ")\n",
    "\n",
    "plt.xticks([i + bar_width / 2 for i in x], daily_usage_pct.index, rotation=45)\n",
    "plt.tight_layout()\n",
    "figures_dict[\"weekly_usage_grouped_bar_1\"] = fig4\n",
    "plt.show()"
   ]
  },
  {
   "cell_type": "code",
   "execution_count": null,
   "metadata": {},
   "outputs": [],
   "source": [
    "set_visualization_style()\n",
    "fig5, ax = plt.subplots()\n",
    "daily_usage_pct.T.plot(kind=\"bar\", width=0.8, ax=ax)\n",
    "format_plot(\n",
    "    ax,\n",
    "    title=\"WEEKLY USAGE TREND BY RIDER GROUP\",\n",
    "    xlabel=\"RIDER GROUP\",\n",
    "    ylabel=\"TRIP DISTRIBUTION (%)\",\n",
    "    legend_title=\"DAY\",\n",
    ")\n",
    "ax.tick_params(rotation=0)\n",
    "plt.tight_layout()\n",
    "figures_dict[\"weekly_usage_grouped_bar_2\"] = fig5\n",
    "plt.show()\n"
   ]
  },
  {
   "cell_type": "markdown",
   "metadata": {},
   "source": [
    "#### Daily Period Trends"
   ]
  },
  {
   "cell_type": "code",
   "execution_count": null,
   "metadata": {},
   "outputs": [],
   "source": [
    "set_visualization_style()\n",
    "fig6, ax = plt.subplots()\n",
    "\n",
    "ordered_periods = [\"Morning\", \"Afternoon\", \"Evening\", \"Night\"]\n",
    "hourly_usage_pct_ordered = hourly_usage_pct.reindex(ordered_periods)\n",
    "\n",
    "hourly_usage_pct_ordered.T.plot(kind=\"bar\", width=0.8, ax=ax)\n",
    "\n",
    "format_plot(\n",
    "    ax=ax,\n",
    "    title=\"DAILY PERIOD USAGE TREND BY RIDER GROUP\",\n",
    "    xlabel=\"RIDER GROUP\",\n",
    "    ylabel=\"TRIP DISTRIBUTION (%)\",\n",
    "    legend_title=\"DAILY PERIOD RANGE\",\n",
    ")\n",
    "\n",
    "ax.tick_params(rotation=0)\n",
    "plt.tight_layout()\n",
    "figures_dict[\"daily_period_bar\"] = fig6\n",
    "plt.show()"
   ]
  },
  {
   "cell_type": "markdown",
   "metadata": {},
   "source": [
    "#### Combined Monthly and Daily Usage"
   ]
  },
  {
   "cell_type": "code",
   "execution_count": null,
   "metadata": {},
   "outputs": [],
   "source": [
    "# Plotting a heatmap\n",
    "set_visualization_style()\n",
    "monthly_usage = pd.read_csv(\n",
    "    os.path.join(ANALYSIS_OUTPUTS_DIR, \"monthly_usage_pct.csv\"), index_col=\"month\"\n",
    ")\n",
    "daily_usage = pd.read_csv(\n",
    "    os.path.join(ANALYSIS_OUTPUTS_DIR, \"daily_usage_pct.csv\"), index_col=\"day_of_week\"\n",
    ")\n",
    "\n",
    "heatmap_data_casual = pd.DataFrame(index=monthly_usage.index, columns=daily_usage.index)\n",
    "heatmap_data_member = pd.DataFrame(index=monthly_usage.index, columns=daily_usage.index)\n",
    "\n",
    "for month in monthly_usage.index:\n",
    "    for day in daily_usage.index:\n",
    "        casual_avg = (\n",
    "            monthly_usage.loc[month, \"casual\"] + daily_usage.loc[day, \"casual\"]\n",
    "        ) / 2\n",
    "        member_avg = (\n",
    "            monthly_usage.loc[month, \"member\"] + daily_usage.loc[day, \"member\"]\n",
    "        ) / 2\n",
    "        heatmap_data_casual.loc[month, day] = casual_avg\n",
    "        heatmap_data_member.loc[month, day] = member_avg\n",
    "\n",
    "heatmap_data_casual = heatmap_data_casual.astype(float)\n",
    "heatmap_data_member = heatmap_data_member.astype(float)\n",
    "\n",
    "plt.rcParams.update(\n",
    "    {\n",
    "        \"font.size\": 16,\n",
    "        \"axes.titlesize\": 20,\n",
    "        \"axes.labelsize\": 18,\n",
    "        \"xtick.labelsize\": 20,\n",
    "        \"ytick.labelsize\": 20,\n",
    "    }\n",
    ")\n",
    "\n",
    "fig7, (ax1, ax2) = plt.subplots(1, 2, figsize=(22, 12))\n",
    "\n",
    "sns.heatmap(\n",
    "    heatmap_data_casual,\n",
    "    cmap=\"YlOrRd\",\n",
    "    annot=True,\n",
    "    fmt=\".1f\",\n",
    "    annot_kws={\"size\": 18},\n",
    "    cbar_kws={\"shrink\": 0.8},\n",
    "    ax=ax1,\n",
    ")\n",
    "format_heatmap(ax1, \"CASUAL RIDERS\", \"DAY\", \"MONTH\")\n",
    "\n",
    "sns.heatmap(\n",
    "    heatmap_data_member,\n",
    "    cmap=\"YlOrRd\",\n",
    "    annot=True,\n",
    "    fmt=\".1f\",\n",
    "    annot_kws={\"size\": 18},\n",
    "    cbar_kws={\"shrink\": 0.8},\n",
    "    ax=ax2,\n",
    ")\n",
    "format_heatmap(ax2, \"ANNUAL MEMBERS\", \"DAY\", \"MONTH\")\n",
    "\n",
    "fig7.suptitle(\"AVERAGE DAILY RIDE SHARE\", fontsize=24, fontweight=\"bold\")\n",
    "fig7.text(0.5, 0.92, \"Nov 2023 – Dec 2024\", ha=\"center\", fontsize=20, color=\"gray\")\n",
    "\n",
    "plt.tight_layout(pad=2.0)\n",
    "plt.show()\n",
    "figures_dict[\"combined_usage_heatmap\"] = fig7\n"
   ]
  },
  {
   "cell_type": "markdown",
   "metadata": {},
   "source": [
    "### Ride Duration Analysis"
   ]
  },
  {
   "cell_type": "code",
   "execution_count": null,
   "metadata": {},
   "outputs": [],
   "source": [
    "# Plotting a boxplot\n",
    "set_visualization_style()\n",
    "subset_bike_data = cleaned_bike_data.loc[:, \"member_casual\":\"trip_duration\"]\n",
    "\n",
    "fig8, ax = plt.subplots()\n",
    "category_order = [\"casual\", \"member\"]\n",
    "\n",
    "sns.boxplot(\n",
    "    data=subset_bike_data,\n",
    "    x=\"member_casual\",\n",
    "    y=\"trip_duration\",\n",
    "    hue=\"member_casual\",\n",
    "    legend=True,\n",
    "    order=category_order,\n",
    "    hue_order=category_order,\n",
    "    fliersize=2,\n",
    "    flierprops={\"alpha\": 0.5},\n",
    ")\n",
    "\n",
    "format_plot(\n",
    "    ax, \"DISTRIBUTION OF TRIP DURATIONS\", \"Rider GROUP\", \"DURATION (minutes)\"\n",
    ")\n",
    "\n",
    "ylim = subset_bike_data[\"trip_duration\"].quantile(0.95)\n",
    "plt.ylim(0, ylim)\n",
    "\n",
    "medians = subset_bike_data.groupby(\"member_casual\")[\"trip_duration\"].median()\n",
    "for i, median in enumerate(medians):\n",
    "    plt.text(\n",
    "        i,\n",
    "        median,\n",
    "        f\"Median: {median:.1f}\",\n",
    "        horizontalalignment=\"center\",\n",
    "        verticalalignment=\"bottom\",\n",
    "        color=\"black\",\n",
    "        bbox=dict(facecolor=\"white\", edgecolor=\"black\", boxstyle=\"square,pad=0.3\"),\n",
    "    )\n",
    "\n",
    "handles, labels = ax.get_legend_handles_labels()\n",
    "ax.legend(handles, [\"Casual\", \"Member\"], title=\"RIDER GROUP\", loc=\"upper right\")\n",
    "\n",
    "plt.tight_layout()\n",
    "figures_dict[\"ride_duration_boxplot\"] = fig8\n",
    "plt.show()"
   ]
  },
  {
   "cell_type": "markdown",
   "metadata": {},
   "source": [
    "### Bike Choices by Rider Group"
   ]
  },
  {
   "cell_type": "code",
   "execution_count": null,
   "metadata": {},
   "outputs": [],
   "source": [
    "set_visualization_style()\n",
    "fig9, ax = plt.subplots()\n",
    "\n",
    "bike_preference_pct.plot(kind=\"bar\", width=0.8, ax=ax)\n",
    "\n",
    "format_plot(\n",
    "    ax=ax,\n",
    "    title=\"BIKE CHOICES BY RIDER GROUP\",\n",
    "    xlabel=\"RIDER GROUP\",\n",
    "    ylabel=\"TRIP DISTRIBUTION (%)\",\n",
    "    legend_title=\"BIKE TYPE\",\n",
    ")\n",
    "\n",
    "ax.tick_params(rotation=0)\n",
    "\n",
    "plt.tight_layout()\n",
    "figures_dict[\"bike_choices_bar_chart\"] = fig9\n",
    "plt.show()"
   ]
  },
  {
   "cell_type": "markdown",
   "metadata": {},
   "source": [
    "### Top 10 Destination Stations by Rider Group"
   ]
  },
  {
   "cell_type": "code",
   "execution_count": null,
   "metadata": {},
   "outputs": [],
   "source": [
    "set_visualization_style()\n",
    "fig10, ax = plt.subplots()\n",
    "\n",
    "sns.barplot(\n",
    "    data=popular_end_stations,\n",
    "    x=\"count\",\n",
    "    y=\"end_station_name\",\n",
    "    hue=\"member_casual\",\n",
    "    ax=ax,\n",
    ")\n",
    "\n",
    "format_plot(\n",
    "    ax=ax,\n",
    "    title=\"TOP 10 DESTINATION STATIONS BY RIDER GROUP\",\n",
    "    xlabel=\"NUMBER OF RIDES\",\n",
    "    ylabel=\"STATIONS\",\n",
    "    legend_title=\"RIDER GROUP\",\n",
    ")\n",
    "\n",
    "plt.tight_layout()\n",
    "figures_dict[\"top_destination_stations_bar\"] = fig10\n",
    "plt.show()"
   ]
  },
  {
   "cell_type": "markdown",
   "metadata": {},
   "source": [
    "### Geographic Distribution of Top Destination Stations"
   ]
  },
  {
   "cell_type": "code",
   "execution_count": null,
   "metadata": {},
   "outputs": [],
   "source": [
    "set_visualization_style()\n",
    "popular_end_stations_reset = popular_end_stations.reset_index()\n",
    "\n",
    "fig11 = px.scatter_map(\n",
    "    popular_end_stations_reset,\n",
    "    lat='latitude',\n",
    "    lon='longitude',\n",
    "    size='count',\n",
    "    color='member_casual',\n",
    "    hover_name='end_station_name',\n",
    "    hover_data=['count'],\n",
    "    title='TOP DESTINATION STATION PATTERNS BY RIDER GROUP',\n",
    "    map_style='carto-positron',  # Updated from mapbox_style to map_style\n",
    "    zoom=11,\n",
    "    width=1000,\n",
    "    height=600,\n",
    "    size_max=30,\n",
    "    color_discrete_map={\n",
    "        'casual': '#FF9999',\n",
    "        'member': '#66B2FF'\n",
    "    }\n",
    ")\n",
    "\n",
    "fig11.update_layout(\n",
    "    title_x=0.5,\n",
    "    legend_title_text='RIDER GROUP'\n",
    ")\n",
    "\n",
    "# Save the Plotly figure directly to results/figures/\n",
    "html_filepath = os.path.join(FIGURES_DIR, 'top_destination_stations.html')\n",
    "image_filepath = os.path.join(FIGURES_DIR, 'geographic_distribution_scatter.png')\n",
    "\n",
    "\n",
    "# Save as HTML and PNG\n",
    "fig11.write_html(html_filepath)\n",
    "fig11.write_image(image_filepath, scale=2)\n",
    "\n",
    "# Display the saved image in the notebook\n",
    "\n",
    "display(HTML(f'<a href=\"{html_filepath}\" target=\"_blank\">Click here to view the interactive map</a>'))\n",
    "Image(filename=image_filepath)"
   ]
  },
  {
   "cell_type": "code",
   "execution_count": null,
   "metadata": {},
   "outputs": [],
   "source": [
    "save_all_figures(figures_dict)"
   ]
  }
 ],
 "metadata": {
  "kernelspec": {
   "display_name": "Python 3",
   "language": "python",
   "name": "python3"
  },
  "language_info": {
   "codemirror_mode": {
    "name": "ipython",
    "version": 3
   },
   "file_extension": ".py",
   "mimetype": "text/x-python",
   "name": "python",
   "nbconvert_exporter": "python",
   "pygments_lexer": "ipython3",
   "version": "3.11.3"
  }
 },
 "nbformat": 4,
 "nbformat_minor": 2
}
